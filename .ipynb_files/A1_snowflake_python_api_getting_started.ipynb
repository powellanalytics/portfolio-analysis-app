{
 "cells": [
  {
   "cell_type": "code",
   "execution_count": 2,
   "metadata": {},
   "outputs": [],
   "source": [
    "from snowflake.snowpark import Session\n",
    "from snowflake.core import Root"
   ]
  },
  {
   "cell_type": "code",
   "execution_count": 3,
   "metadata": {},
   "outputs": [],
   "source": [
    "from snowflake.core.database import Database\n",
    "from snowflake.core.schema import Schema\n",
    "from snowflake.core.table import Table, TableColumn, PrimaryKey\n",
    "from snowflake.core.warehouse import Warehouse"
   ]
  },
  {
   "cell_type": "code",
   "execution_count": 4,
   "metadata": {},
   "outputs": [
    {
     "name": "stderr",
     "output_type": "stream",
     "text": [
      "c:\\Users\\powel\\anaconda3\\envs\\.venv-sp500-stocks-app\\lib\\site-packages\\snowflake\\connector\\config_manager.py:344: UserWarning: Bad owner or permissions on ..\\.snowflake\\connections.toml\n",
      "  warn(f\"Bad owner or permissions on {str(filep)}{chmod_message}\")\n"
     ]
    }
   ],
   "source": [
    "session = Session.builder.config(\"connection_name\",\"myconnection\").create()\n",
    "root = Root(session)\n"
   ]
  },
  {
   "cell_type": "code",
   "execution_count": 5,
   "metadata": {},
   "outputs": [],
   "source": [
    "## Create or replace Database on the Root\n",
    "database = root.databases.create(Database(name=\"INVESTMENT_DB\"), mode=\"orreplace\")"
   ]
  },
  {
   "cell_type": "code",
   "execution_count": 6,
   "metadata": {},
   "outputs": [],
   "source": [
    "## Create or replace Schema in a Database\n",
    "schema = database.schemas.create(Schema(name=\"INVESTMENT_SCHEMA\"), mode=\"orreplace\")"
   ]
  },
  {
   "cell_type": "code",
   "execution_count": 7,
   "metadata": {},
   "outputs": [],
   "source": [
    "## Create or replace a Table in a Schema\n",
    "table = schema.tables.create(Table(\n",
    "        name=\"SP500_RETURNS\", \n",
    "        columns=[\n",
    "            TableColumn(\"Date\", \"Date\"), \n",
    "            TableColumn(\"Symbol\", \"string\"), \n",
    "            TableColumn(\"Adj_Close\", \"float\"),\n",
    "            TableColumn(\"Close\", \"float\"), \n",
    "            TableColumn(\"Open\", \"float\"), \n",
    "            TableColumn(\"High\", \"float\"), \n",
    "            TableColumn(\"Low\", \"float\"), \n",
    "            TableColumn(\"Volume\", \"float\"), \n",
    "            ],\n",
    "    ), \n",
    "    mode=\"orreplace\")"
   ]
  },
  {
   "cell_type": "code",
   "execution_count": 10,
   "metadata": {},
   "outputs": [
    {
     "data": {
      "text/plain": [
       "{'name': 'SP500_RETURNS',\n",
       " 'kind': 'TABLE',\n",
       " 'enable_schema_evolution': False,\n",
       " 'change_tracking': False,\n",
       " 'comment': '',\n",
       " 'created_on': datetime.datetime(2023, 12, 14, 6, 50, 34, 831000, tzinfo=datetime.timezone(datetime.timedelta(days=-1, seconds=57600))),\n",
       " 'database_name': 'INVESTMENT_DB',\n",
       " 'schema_name': 'INVESTMENT_SCHEMA',\n",
       " 'rows': 0,\n",
       " 'bytes': 0,\n",
       " 'owner': 'ACCOUNTADMIN',\n",
       " 'automatic_clustering': False,\n",
       " 'search_optimization': False,\n",
       " 'owner_role_type': 'ROLE'}"
      ]
     },
     "execution_count": 10,
     "metadata": {},
     "output_type": "execute_result"
    }
   ],
   "source": [
    "## View information about an object with fetch()\n",
    "## Returns a TableModel object which can be viewed using to_dict() method\n",
    "\n",
    "table_details = table.fetch()\n",
    "table_details.to_dict()"
   ]
  },
  {
   "cell_type": "code",
   "execution_count": 12,
   "metadata": {},
   "outputs": [
    {
     "data": {
      "text/plain": [
       "{'name': 'SP500_RETURNS',\n",
       " 'kind': 'TABLE',\n",
       " 'enable_schema_evolution': False,\n",
       " 'change_tracking': False,\n",
       " 'columns': [{'name': 'DATE',\n",
       "   'datatype': 'DATE',\n",
       "   'nullable': True,\n",
       "   'identity': False},\n",
       "  {'name': 'SYMBOL', 'datatype': 'TEXT', 'nullable': True, 'identity': False},\n",
       "  {'name': 'ADJ_CLOSE',\n",
       "   'datatype': 'FLOAT',\n",
       "   'nullable': True,\n",
       "   'identity': False},\n",
       "  {'name': 'CLOSE', 'datatype': 'FLOAT', 'nullable': True, 'identity': False},\n",
       "  {'name': 'OPEN', 'datatype': 'FLOAT', 'nullable': True, 'identity': False},\n",
       "  {'name': 'HIGH', 'datatype': 'FLOAT', 'nullable': True, 'identity': False},\n",
       "  {'name': 'LOW', 'datatype': 'FLOAT', 'nullable': True, 'identity': False},\n",
       "  {'name': 'VOLUME',\n",
       "   'datatype': 'FLOAT',\n",
       "   'nullable': True,\n",
       "   'identity': False}],\n",
       " 'constraints': [],\n",
       " 'comment': '',\n",
       " 'created_on': datetime.datetime(2023, 12, 14, 6, 50, 34, 831000, tzinfo=datetime.timezone(datetime.timedelta(days=-1, seconds=57600))),\n",
       " 'database_name': 'INVESTMENT_DB',\n",
       " 'schema_name': 'INVESTMENT_SCHEMA',\n",
       " 'rows': 0,\n",
       " 'bytes': 0,\n",
       " 'owner': 'ACCOUNTADMIN',\n",
       " 'automatic_clustering': False,\n",
       " 'search_optimization': False,\n",
       " 'owner_role_type': 'ROLE'}"
      ]
     },
     "execution_count": 12,
     "metadata": {},
     "output_type": "execute_result"
    }
   ],
   "source": [
    "## View information about an object with fetch(deep=True)\n",
    "## to include columns and constraints\n",
    "\n",
    "table_details_full = table.fetch(deep=True)\n",
    "table_details_full.to_dict()"
   ]
  },
  {
   "cell_type": "code",
   "execution_count": 13,
   "metadata": {},
   "outputs": [],
   "source": [
    "## Define a new column in the TableModel object (doesn't update the table yet)\n",
    "\n",
    "table_details_full.columns.append(TableColumn(\n",
    "    name=\"TEST\", \n",
    "    datatype=\"string\", \n",
    "    nullable=False, \n",
    "    constraints=[PrimaryKey()]))"
   ]
  },
  {
   "cell_type": "code",
   "execution_count": 14,
   "metadata": {},
   "outputs": [],
   "source": [
    "## Modify the Table object by adding the new column\n",
    "table.create_or_update(table_details_full)"
   ]
  },
  {
   "cell_type": "code",
   "execution_count": 15,
   "metadata": {},
   "outputs": [
    {
     "data": {
      "text/plain": [
       "{'name': 'SP500_RETURNS',\n",
       " 'kind': 'TABLE',\n",
       " 'enable_schema_evolution': False,\n",
       " 'change_tracking': False,\n",
       " 'columns': [{'name': 'DATE',\n",
       "   'datatype': 'DATE',\n",
       "   'nullable': True,\n",
       "   'identity': False},\n",
       "  {'name': 'SYMBOL', 'datatype': 'TEXT', 'nullable': True, 'identity': False},\n",
       "  {'name': 'ADJ_CLOSE',\n",
       "   'datatype': 'FLOAT',\n",
       "   'nullable': True,\n",
       "   'identity': False},\n",
       "  {'name': 'CLOSE', 'datatype': 'FLOAT', 'nullable': True, 'identity': False},\n",
       "  {'name': 'OPEN', 'datatype': 'FLOAT', 'nullable': True, 'identity': False},\n",
       "  {'name': 'HIGH', 'datatype': 'FLOAT', 'nullable': True, 'identity': False},\n",
       "  {'name': 'LOW', 'datatype': 'FLOAT', 'nullable': True, 'identity': False},\n",
       "  {'name': 'VOLUME', 'datatype': 'FLOAT', 'nullable': True, 'identity': False},\n",
       "  {'name': 'TEST', 'datatype': 'TEXT', 'nullable': False, 'identity': False}],\n",
       " 'constraints': [{'name': 'SYS_CONSTRAINT_d629bd72-b472-45ec-a2ab-98204ad1624a',\n",
       "   'column_names': ['TEST'],\n",
       "   'constraint_type': 'PRIMARY KEY'}],\n",
       " 'comment': '',\n",
       " 'created_on': datetime.datetime(2023, 12, 14, 6, 50, 34, 831000, tzinfo=datetime.timezone(datetime.timedelta(days=-1, seconds=57600))),\n",
       " 'database_name': 'INVESTMENT_DB',\n",
       " 'schema_name': 'INVESTMENT_SCHEMA',\n",
       " 'rows': 0,\n",
       " 'bytes': 0,\n",
       " 'owner': 'ACCOUNTADMIN',\n",
       " 'automatic_clustering': False,\n",
       " 'search_optimization': False,\n",
       " 'owner_role_type': 'ROLE'}"
      ]
     },
     "execution_count": 15,
     "metadata": {},
     "output_type": "execute_result"
    }
   ],
   "source": [
    "table.fetch(deep=True).to_dict()"
   ]
  },
  {
   "cell_type": "code",
   "execution_count": 16,
   "metadata": {},
   "outputs": [],
   "source": [
    "## return the collection of warehouses associated with our session\n",
    "warehouses = root.warehouses"
   ]
  },
  {
   "cell_type": "code",
   "execution_count": 7,
   "metadata": {},
   "outputs": [],
   "source": [
    "## Create a New or Update an Existing Warehouse\n",
    "investment_wh = Warehouse(\n",
    "  name=\"investment_wh\",\n",
    "    warehouse_size=\"SMALL\",\n",
    "    auto_suspend=300,\n",
    "    auto_resume='true'\n",
    ")\n",
    "investment_wh_res = root.warehouses[\"investment_wh\"]\n",
    "investment_wh_res.create_or_update(investment_wh)"
   ]
  },
  {
   "cell_type": "code",
   "execution_count": 5,
   "metadata": {},
   "outputs": [
    {
     "ename": "NameError",
     "evalue": "name 'warehouses' is not defined",
     "output_type": "error",
     "traceback": [
      "\u001b[1;31m---------------------------------------------------------------------------\u001b[0m",
      "\u001b[1;31mNameError\u001b[0m                                 Traceback (most recent call last)",
      "Cell \u001b[1;32mIn[5], line 9\u001b[0m\n\u001b[0;32m      1\u001b[0m \u001b[38;5;66;03m## Alternative Method\u001b[39;00m\n\u001b[0;32m      2\u001b[0m investment_wh \u001b[38;5;241m=\u001b[39m Warehouse(\n\u001b[0;32m      3\u001b[0m     name\u001b[38;5;241m=\u001b[39m\u001b[38;5;124m\"\u001b[39m\u001b[38;5;124mINVESTMENT_WH\u001b[39m\u001b[38;5;124m\"\u001b[39m,\n\u001b[0;32m      4\u001b[0m     warehouse_size\u001b[38;5;241m=\u001b[39m\u001b[38;5;124m\"\u001b[39m\u001b[38;5;124mSMALL\u001b[39m\u001b[38;5;124m\"\u001b[39m,\n\u001b[0;32m      5\u001b[0m     auto_suspend\u001b[38;5;241m=\u001b[39m\u001b[38;5;241m300\u001b[39m,\n\u001b[0;32m      6\u001b[0m     auto_resume\u001b[38;5;241m=\u001b[39m\u001b[38;5;28;01mTrue\u001b[39;00m\n\u001b[0;32m      7\u001b[0m )\n\u001b[1;32m----> 9\u001b[0m warehouse \u001b[38;5;241m=\u001b[39m \u001b[43mwarehouses\u001b[49m\u001b[38;5;241m.\u001b[39mcreate(investment_wh, mode\u001b[38;5;241m=\u001b[39m\u001b[38;5;124m\"\u001b[39m\u001b[38;5;124morreplace\u001b[39m\u001b[38;5;124m\"\u001b[39m)\n",
      "\u001b[1;31mNameError\u001b[0m: name 'warehouses' is not defined"
     ]
    }
   ],
   "source": [
    "## Alternative Method\n",
    "investment_wh = Warehouse(\n",
    "    name=\"INVESTMENT_WH\",\n",
    "    warehouse_size=\"SMALL\",\n",
    "    auto_suspend=300,\n",
    "    auto_resume=True\n",
    ")\n",
    "\n",
    "warehouse = warehouses.create(investment_wh, mode=\"orreplace\")"
   ]
  },
  {
   "cell_type": "code",
   "execution_count": 30,
   "metadata": {},
   "outputs": [
    {
     "data": {
      "text/plain": [
       "{'name': 'INVESTMENT_WH',\n",
       " 'max_cluster_count': 1,\n",
       " 'min_cluster_count': 1,\n",
       " 'scaling_policy': 'STANDARD',\n",
       " 'auto_suspend': 300,\n",
       " 'auto_resume': 'false',\n",
       " 'resource_monitor': 'null',\n",
       " 'comment': '',\n",
       " 'enable_query_acceleration': 'false',\n",
       " 'query_acceleration_max_scale_factor': 8,\n",
       " 'type': 'STANDARD',\n",
       " 'size': 'Small',\n",
       " 'tag': None}"
      ]
     },
     "execution_count": 30,
     "metadata": {},
     "output_type": "execute_result"
    }
   ],
   "source": [
    "## get information by calling the WarehouseResource.fetch method,\n",
    "## which returns a Warehouse object.\n",
    "my_wh = root.warehouses[\"investment_wh\"].fetch()\n",
    "my_wh.to_dict()"
   ]
  },
  {
   "cell_type": "code",
   "execution_count": null,
   "metadata": {},
   "outputs": [],
   "source": [
    "wh_update = Warehouse(\n",
    "  name=\"investment_wh\",\n",
    "  warehouse_size=\"LARGE\",\n",
    "  auto_suspend=1800,\n",
    ")\n",
    "investment_wh = root.warehouses[\"investment_wh\"]\n",
    "investment_wh.create_or_update(wh_update)"
   ]
  },
  {
   "cell_type": "code",
   "execution_count": 32,
   "metadata": {},
   "outputs": [
    {
     "name": "stdout",
     "output_type": "stream",
     "text": [
      "INVESTMENT_WH\n"
     ]
    }
   ],
   "source": [
    "## Get a list of available warehouses\n",
    "from snowflake.core.warehouse import WarehouseCollection\n",
    "\n",
    "warehouses: WarehouseCollection = root.warehouses\n",
    "wh_iter = warehouses.iter(like=\"investment%\")  # returns a PagedIter[Warehouse]\n",
    "for wh_obj in wh_iter:\n",
    "  print(wh_obj.name)"
   ]
  },
  {
   "cell_type": "code",
   "execution_count": null,
   "metadata": {},
   "outputs": [],
   "source": [
    "## How to return a specific warehouse object if you know its name\n",
    "warehouse_list = warehouses.iter(like=\"PYTHON_API_WH\")\n",
    "result = next(warehouse_list)\n",
    "result.to_dict()"
   ]
  },
  {
   "cell_type": "code",
   "execution_count": 35,
   "metadata": {},
   "outputs": [],
   "source": [
    "## Perform warehouse operations\n",
    "from snowflake.core import Root\n",
    "from snowflake.core.warehouse import Warehouse\n",
    "\n",
    "investment_wh = root.warehouses[\"investment_wh\"]\n",
    "\n",
    "# investment_wh_res.suspend()\n",
    "# investment_wh_res.resume()\n",
    "# investment_wh_res.abort_all_queries()\n",
    "# investment_wh_res.delete()"
   ]
  },
  {
   "cell_type": "markdown",
   "metadata": {},
   "source": []
  },
  {
   "cell_type": "code",
   "execution_count": 37,
   "metadata": {},
   "outputs": [
    {
     "data": {
      "text/plain": [
       "'Small'"
      ]
     },
     "execution_count": 37,
     "metadata": {},
     "output_type": "execute_result"
    }
   ],
   "source": [
    "## \n",
    "investment_wh = root.warehouses[\"investment_wh\"]\n",
    "investment_wh.fetch().size"
   ]
  },
  {
   "cell_type": "code",
   "execution_count": 39,
   "metadata": {},
   "outputs": [
    {
     "data": {
      "text/plain": [
       "{'name': 'INVESTMENT_WH',\n",
       " 'max_cluster_count': 1,\n",
       " 'min_cluster_count': 1,\n",
       " 'scaling_policy': 'STANDARD',\n",
       " 'auto_suspend': 300,\n",
       " 'auto_resume': 'false',\n",
       " 'resource_monitor': 'null',\n",
       " 'comment': '',\n",
       " 'enable_query_acceleration': 'false',\n",
       " 'query_acceleration_max_scale_factor': 8,\n",
       " 'type': 'STANDARD',\n",
       " 'size': 'Small',\n",
       " 'tag': None}"
      ]
     },
     "execution_count": 39,
     "metadata": {},
     "output_type": "execute_result"
    }
   ],
   "source": [
    "## Fetch and display Warehouse information\n",
    "investment_wh = root.warehouses[\"investment_wh\"]\n",
    "investment_wh.fetch().to_dict()\n",
    "\n",
    "## Check attributes of the Warehouse object\n",
    "investment_wh.fetch().size"
   ]
  },
  {
   "cell_type": "code",
   "execution_count": null,
   "metadata": {},
   "outputs": [],
   "source": []
  }
 ],
 "metadata": {
  "kernelspec": {
   "display_name": ".venv-portfolio-analysis-app",
   "language": "python",
   "name": "python3"
  },
  "language_info": {
   "codemirror_mode": {
    "name": "ipython",
    "version": 3
   },
   "file_extension": ".py",
   "mimetype": "text/x-python",
   "name": "python",
   "nbconvert_exporter": "python",
   "pygments_lexer": "ipython3",
   "version": "3.10.13"
  }
 },
 "nbformat": 4,
 "nbformat_minor": 2
}
