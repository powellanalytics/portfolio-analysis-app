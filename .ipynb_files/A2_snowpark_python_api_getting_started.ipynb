{
 "cells": [
  {
   "cell_type": "code",
   "execution_count": 1,
   "metadata": {},
   "outputs": [],
   "source": [
    "from snowflake.snowpark import Session\n",
    "from snowflake.core import Root\n",
    "from snowflake.core.database import Database\n",
    "from snowflake.core.schema import Schema"
   ]
  },
  {
   "cell_type": "code",
   "execution_count": null,
   "metadata": {},
   "outputs": [],
   "source": [
    "session = Session.builder.config(\"connection_name\",\"myconnection\").create()\n",
    "root = Root(session)"
   ]
  },
  {
   "cell_type": "code",
   "execution_count": null,
   "metadata": {},
   "outputs": [],
   "source": [
    "## Create or replace Database on the Root\n",
    "database = root.databases.create(Database(name=\"INVESTMENT_DB\"), mode=\"orreplace\")"
   ]
  },
  {
   "cell_type": "code",
   "execution_count": null,
   "metadata": {},
   "outputs": [],
   "source": [
    "## Create or replace Schema in a Database\n",
    "schema = database.schemas.create(Schema(name=\"INVESTMENT_SCHEMA\"), mode=\"orreplace\")"
   ]
  },
  {
   "cell_type": "code",
   "execution_count": null,
   "metadata": {},
   "outputs": [],
   "source": [
    "import pandas as pd"
   ]
  },
  {
   "cell_type": "code",
   "execution_count": null,
   "metadata": {},
   "outputs": [],
   "source": [
    "sp500_info_df = pd.read_csv(\"../csv_dumps/sp500_info.csv\")\n",
    "sp500_info_df.head()"
   ]
  },
  {
   "cell_type": "code",
   "execution_count": null,
   "metadata": {},
   "outputs": [],
   "source": [
    "sp500_returns_df =  pd.read_csv(\"../csv_dumps/sp500_returns.csv\")\n",
    "sp500_returns_df.head()"
   ]
  },
  {
   "cell_type": "code",
   "execution_count": null,
   "metadata": {},
   "outputs": [],
   "source": [
    "session.sql('CREATE OR REPLACE TABLE sp500_returns (date DATE, symbol VARCHAR, adj_close FLOAT, close FLOAT, open FLOAT, high FLOAT, low FLOAT, volume FLOAT)').collect()"
   ]
  },
  {
   "cell_type": "code",
   "execution_count": null,
   "metadata": {},
   "outputs": [],
   "source": [
    "session.sql('SELECT count(*) from sp500_returns').collect()"
   ]
  },
  {
   "cell_type": "code",
   "execution_count": null,
   "metadata": {},
   "outputs": [],
   "source": [
    "## To create a DataFrame from data in a table, view, or stream\n",
    "sp500_returns_dataframe = session.table(\"sp500_returns\")\n",
    "sp500_returns_dataframe.show()"
   ]
  },
  {
   "cell_type": "code",
   "execution_count": null,
   "metadata": {},
   "outputs": [],
   "source": [
    "## To create a DataFrame from specified values\n",
    "df1 = session.create_dataframe([1, 2, 3, 4]).to_df(\"a\")\n",
    "df1.show()"
   ]
  },
  {
   "cell_type": "code",
   "execution_count": null,
   "metadata": {},
   "outputs": [],
   "source": [
    "## Create a DataFrame with 4 columns, “a”, “b”, “c” and “d”\n",
    "df2 = session.create_dataframe([[1, 2, 3, 4]], \n",
    "                               schema=[\"a\", \"b\", \"c\", \"d\"])\n",
    "df2.show()"
   ]
  },
  {
   "cell_type": "code",
   "execution_count": null,
   "metadata": {},
   "outputs": [],
   "source": [
    "## Create another DataFrame with 4 columns, \"a\", \"b\", \"c\" and \"d\".\n",
    "from snowflake.snowpark import Row\n",
    "df3 = session.create_dataframe([Row(a=1, b=2, c=3, d=4)])\n",
    "df3.show()"
   ]
  },
  {
   "cell_type": "code",
   "execution_count": null,
   "metadata": {},
   "outputs": [],
   "source": [
    "# Create a DataFrame and specify a schema\n",
    "from snowflake.snowpark.types import IntegerType, StringType, StructType, StructField\n",
    "schema = StructType([StructField(\"a\", IntegerType()), StructField(\"b\", StringType())])\n",
    "df4 = session.create_dataframe([[1, \"snow\"], [3, \"flake\"]], schema)\n",
    "df4.show()"
   ]
  },
  {
   "cell_type": "code",
   "execution_count": null,
   "metadata": {},
   "outputs": [],
   "source": [
    "## Create a DataFrame from a range\n",
    "df_range = session.range(1, 10, 2).to_df(\"a\")\n",
    "df_range.show()"
   ]
  },
  {
   "cell_type": "code",
   "execution_count": null,
   "metadata": {},
   "outputs": [],
   "source": [
    "# Create DataFrames from data in a stage.\n",
    "df_json = session.read.json(\"@my_stage2/data1.json\")\n",
    "df_catalog = session.read.schema(StructType([StructField(\"name\", StringType()), StructField(\"age\", IntegerType())])).csv(\"@stage/some_dir\")"
   ]
  },
  {
   "cell_type": "code",
   "execution_count": null,
   "metadata": {},
   "outputs": [],
   "source": [
    "## Create DataFrame from a SQL query\n",
    "df_sql = session.sql('SELECT * from sp500_returns')\n",
    "df_sql.show()"
   ]
  },
  {
   "cell_type": "code",
   "execution_count": null,
   "metadata": {},
   "outputs": [],
   "source": [
    "df_sql_read = session.table(\"sp500_returns\")\n",
    "df_sql_read.show()"
   ]
  },
  {
   "cell_type": "markdown",
   "metadata": {},
   "source": [
    "Transformations"
   ]
  },
  {
   "cell_type": "code",
   "execution_count": null,
   "metadata": {},
   "outputs": [],
   "source": [
    "from snowflake.snowpark.functions import col"
   ]
  }
 ],
 "metadata": {
  "kernelspec": {
   "display_name": ".venv-portfolio-analysis-app",
   "language": "python",
   "name": "python3"
  },
  "language_info": {
   "codemirror_mode": {
    "name": "ipython",
    "version": 3
   },
   "file_extension": ".py",
   "mimetype": "text/x-python",
   "name": "python",
   "nbconvert_exporter": "python",
   "pygments_lexer": "ipython3",
   "version": "3.10.13"
  }
 },
 "nbformat": 4,
 "nbformat_minor": 2
}
