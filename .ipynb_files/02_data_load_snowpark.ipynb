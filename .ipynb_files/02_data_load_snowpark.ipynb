{
 "cells": [
  {
   "cell_type": "code",
   "execution_count": 1,
   "metadata": {},
   "outputs": [],
   "source": [
    "from snowflake.snowpark import Session\n",
    "from snowflake.core import Root\n",
    "from snowflake.core.database import Database\n",
    "from snowflake.core.schema import Schema\n",
    "from snowflake.core.table import Table, TableColumn, PrimaryKey\n",
    "from snowflake.core.warehouse import Warehouse"
   ]
  },
  {
   "cell_type": "code",
   "execution_count": 2,
   "metadata": {},
   "outputs": [
    {
     "name": "stderr",
     "output_type": "stream",
     "text": [
      "c:\\Users\\powel\\anaconda3\\envs\\.venv-sp500-stocks-app\\lib\\site-packages\\snowflake\\connector\\config_manager.py:344: UserWarning: Bad owner or permissions on ..\\.snowflake\\connections.toml\n",
      "  warn(f\"Bad owner or permissions on {str(filep)}{chmod_message}\")\n"
     ]
    }
   ],
   "source": [
    "# connection_params = {\n",
    "#     \"account\": \"YVKMABQ-SYB57956\",\n",
    "#     \"user\": \"dylanpowell\",\n",
    "#     \"password\": \"Snowflake88\"\n",
    "# }\n",
    "session = Session.builder.config(\"connection_name\",\"myconnection\").create()\n",
    "root = Root(session)"
   ]
  },
  {
   "cell_type": "code",
   "execution_count": null,
   "metadata": {},
   "outputs": [],
   "source": [
    "#database = root.databases.create(Database(name=\"PYTHON_API_DB\"), mode=\"orreplace\")"
   ]
  },
  {
   "cell_type": "code",
   "execution_count": null,
   "metadata": {},
   "outputs": [],
   "source": []
  }
 ],
 "metadata": {
  "kernelspec": {
   "display_name": ".venv-portfolio-analysis-app",
   "language": "python",
   "name": "python3"
  },
  "language_info": {
   "codemirror_mode": {
    "name": "ipython",
    "version": 3
   },
   "file_extension": ".py",
   "mimetype": "text/x-python",
   "name": "python",
   "nbconvert_exporter": "python",
   "pygments_lexer": "ipython3",
   "version": "3.10.13"
  }
 },
 "nbformat": 4,
 "nbformat_minor": 2
}
