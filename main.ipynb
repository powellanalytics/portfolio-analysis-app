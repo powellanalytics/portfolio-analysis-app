{
 "cells": [
  {
   "cell_type": "code",
   "execution_count": 4,
   "metadata": {},
   "outputs": [
    {
     "name": "stdout",
     "output_type": "stream",
     "text": [
      "['c:\\\\Users\\\\powel\\\\OneDrive\\\\Documents\\\\1. Local Web Dev\\\\portfolio-analysis-app', 'c:\\\\Users\\\\powel\\\\anaconda3\\\\python311.zip', 'c:\\\\Users\\\\powel\\\\anaconda3\\\\DLLs', 'c:\\\\Users\\\\powel\\\\anaconda3\\\\Lib', 'c:\\\\Users\\\\powel\\\\anaconda3', '', 'c:\\\\Users\\\\powel\\\\anaconda3\\\\Lib\\\\site-packages', 'c:\\\\Users\\\\powel\\\\anaconda3\\\\Lib\\\\site-packages\\\\win32', 'c:\\\\Users\\\\powel\\\\anaconda3\\\\Lib\\\\site-packages\\\\win32\\\\lib', 'c:\\\\Users\\\\powel\\\\anaconda3\\\\Lib\\\\site-packages\\\\Pythonwin']\n"
     ]
    }
   ],
   "source": [
    "#import yfinance as yf\n",
    "import sys\n",
    "print(sys.path)"
   ]
  },
  {
   "cell_type": "code",
   "execution_count": null,
   "metadata": {},
   "outputs": [],
   "source": []
  }
 ],
 "metadata": {
  "kernelspec": {
   "display_name": "base",
   "language": "python",
   "name": "python3"
  },
  "language_info": {
   "codemirror_mode": {
    "name": "ipython",
    "version": 3
   },
   "file_extension": ".py",
   "mimetype": "text/x-python",
   "name": "python",
   "nbconvert_exporter": "python",
   "pygments_lexer": "ipython3",
   "version": "3.11.5"
  }
 },
 "nbformat": 4,
 "nbformat_minor": 2
}
